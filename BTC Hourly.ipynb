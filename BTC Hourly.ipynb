{
 "cells": [
  {
   "cell_type": "code",
   "execution_count": 2,
   "id": "6c2d5658",
   "metadata": {},
   "outputs": [],
   "source": [
    "import datetime as dt\n",
    "import matplotlib.pyplot as plt\n",
    "from matplotlib import style\n",
    "import datetime\n",
    "import numpy as np\n",
    "import yfinance as yf\n",
    "import pandas as pd"
   ]
  },
  {
   "cell_type": "code",
   "execution_count": 3,
   "id": "ec81c15e",
   "metadata": {},
   "outputs": [
    {
     "data": {
      "text/plain": [
       "'2024-02-24'"
      ]
     },
     "execution_count": 3,
     "metadata": {},
     "output_type": "execute_result"
    }
   ],
   "source": [
    "from datetime import datetime, timedelta\n",
    "tomorrow = datetime.today() + timedelta(1)\n",
    "tomorrow.strftime('%Y-%m-%d')"
   ]
  },
  {
   "cell_type": "code",
   "execution_count": 6,
   "id": "cc5b4740",
   "metadata": {},
   "outputs": [
    {
     "name": "stderr",
     "output_type": "stream",
     "text": [
      "[*********************100%%**********************]  1 of 1 completed\n"
     ]
    }
   ],
   "source": [
    "df_nifty = yf.download('BTC-USD',start= \"2022-03-01\",end = tomorrow.strftime('%Y-%m-%d'), interval = '1h' )"
   ]
  },
  {
   "cell_type": "code",
   "execution_count": 7,
   "id": "1151c92a",
   "metadata": {},
   "outputs": [],
   "source": [
    "datestr = datetime.today().strftime(\"%Y%m%d\")\n",
    "df_nifty.to_csv('BTC_{}.csv'.format(datestr))"
   ]
  },
  {
   "cell_type": "code",
   "execution_count": null,
   "id": "1866cd00",
   "metadata": {},
   "outputs": [],
   "source": [
    "df_eth = yf.download('ETH-USD',start= \"2022-03-01\",end = tomorrow.strftime('%Y-%m-%d'), interval = '1h' )"
   ]
  },
  {
   "cell_type": "code",
   "execution_count": null,
   "id": "5f2c8feb",
   "metadata": {},
   "outputs": [],
   "source": [
    "datestr = datetime.today().strftime(\"%Y%m%d\")\n",
    "df_eth.to_csv('eth_{}.csv'.format(datestr))"
   ]
  },
  {
   "cell_type": "code",
   "execution_count": null,
   "id": "3dbd9c45",
   "metadata": {},
   "outputs": [],
   "source": [
    "##Install yfinance library\n",
    "pip install yfinance"
   ]
  },
  {
   "cell_type": "code",
   "execution_count": null,
   "id": "bcabdde1",
   "metadata": {},
   "outputs": [],
   "source": []
  }
 ],
 "metadata": {
  "kernelspec": {
   "display_name": "Python 3 (ipykernel)",
   "language": "python",
   "name": "python3"
  },
  "language_info": {
   "codemirror_mode": {
    "name": "ipython",
    "version": 3
   },
   "file_extension": ".py",
   "mimetype": "text/x-python",
   "name": "python",
   "nbconvert_exporter": "python",
   "pygments_lexer": "ipython3",
   "version": "3.11.5"
  }
 },
 "nbformat": 4,
 "nbformat_minor": 5
}
